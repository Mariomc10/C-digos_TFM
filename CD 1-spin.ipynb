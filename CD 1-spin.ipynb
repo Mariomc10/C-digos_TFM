{
 "cells": [
  {
   "cell_type": "code",
   "execution_count": 24,
   "id": "146afebd",
   "metadata": {},
   "outputs": [],
   "source": [
    "from qiskit import Aer, QuantumCircuit, execute\n",
    "from qiskit.visualization import plot_histogram\n",
    "from qiskit.quantum_info import Statevector\n",
    "import matplotlib.pyplot as plt\n",
    "from sympy import *\n",
    "import numpy as np\n",
    "import warnings\n",
    "warnings.filterwarnings(\"ignore\")"
   ]
  },
  {
   "cell_type": "code",
   "execution_count": 25,
   "id": "e2443fab",
   "metadata": {},
   "outputs": [],
   "source": [
    "T = 1\n",
    "delta_t = 0.2\n",
    "num_it = int(T/delta_t)\n",
    "hx = -1\n",
    "hz = 1\n",
    "omega = np.pi/(2*T)\n",
    "\n",
    "def lam_t(jt):\n",
    "    return np.sin(omega*jt)**2\n",
    "\n",
    "def lam_t_diff(jt):\n",
    "    return omega*np.sin(2*omega*jt)\n",
    "\n",
    "def termino_CD(jt):\n",
    "    # DUDA: En el paper DAdQC la fórmula sería con -lam_t_diff(jt), pero el resultado con CD sería el opuesto.\n",
    "    # ¿ERRATA?\n",
    "    return -hx * hz * ( lam_t_diff(jt) ) / (2 * ( hx**2 * (1-lam_t(jt))**2 + hz**2 * lam_t(jt)**2 ) )"
   ]
  },
  {
   "cell_type": "code",
   "execution_count": 26,
   "id": "5a298414",
   "metadata": {},
   "outputs": [
    {
     "data": {
      "image/png": "[encoded data removed]",
      "text/plain": [
       "<Figure size 1439.62x117.056 with 1 Axes>"
      ]
     },
     "metadata": {},
     "output_type": "display_data"
    },
    {
     "data": {
      "text/plain": [
       "[Statevector([0.69787081+0.11391371j, 0.69301172+0.14048043j],\n",
       "             dims=(2,)),\n",
       " Statevector([0.68599942+0.15640625j, 0.65470412+0.27623251j],\n",
       "             dims=(2,)),\n",
       " Statevector([0.68586552+0.11267516j, 0.59469508+0.40401801j],\n",
       "             dims=(2,)),\n",
       " Statevector([0.6892725 +1.38777878e-17j, 0.50773456+5.16825927e-01j],\n",
       "             dims=(2,)),\n",
       " Statevector([0.67553294-0.13693731j, 0.39493621+0.6073951j ],\n",
       "             dims=(2,))]"
      ]
     },
     "execution_count": 26,
     "metadata": {},
     "output_type": "execute_result"
    }
   ],
   "source": [
    "backend = Aer.get_backend(\"statevector_simulator\")\n",
    "\n",
    "circ = QuantumCircuit(1)\n",
    "\n",
    "circ.h(0)\n",
    "\n",
    "for i in [delta_t*i for i in range(1,num_it+1)]:\n",
    "    circ.rx(2*(1-lam_t(i))*hx*delta_t,0)\n",
    "    circ.rz(2*lam_t(i)*hz*delta_t,0)\n",
    "    #circ.ry(2*termino_CD(i)*delta_t,0)\n",
    "    circ.save_statevector(label=f\"Phi_{int(i/delta_t)}\")\n",
    "\n",
    "display(circ.draw(\"mpl\"))\n",
    "\n",
    "\n",
    "job = backend.run(circ).result()\n",
    "\n",
    "stv = [job.data(0)[f\"Phi_{i}\"] for i in range(1,num_it+1)]\n",
    "stv"
   ]
  },
  {
   "cell_type": "code",
   "execution_count": 27,
   "id": "9e1da983",
   "metadata": {},
   "outputs": [
    {
     "name": "stdout",
     "output_type": "stream",
     "text": [
      "0.5000000000000001\n",
      "0.5049418760212184\n",
      "0.5168927907480004\n",
      "0.5249034198248334\n",
      "0.5249034198248334\n"
     ]
    }
   ],
   "source": [
    "def get_probabilities(svector):\n",
    "    return np.power(np.abs(svector.data),2)\n",
    "\n",
    "qubit_1 = Statevector.from_label(\"1\")\n",
    "\n",
    "res = [0.5]\n",
    "\n",
    "for i in stv:\n",
    "    print(get_probabilities(i)[1])\n",
    "    res.append(get_probabilities(i)[1])"
   ]
  },
  {
   "cell_type": "code",
   "execution_count": 28,
   "id": "fec46de0",
   "metadata": {},
   "outputs": [
    {
     "data": {
      "image/png": "[encoded data removed]",
      "text/plain": [
       "<Figure size 1857.67x117.056 with 1 Axes>"
      ]
     },
     "metadata": {},
     "output_type": "display_data"
    },
    {
     "data": {
      "text/plain": [
       "[Statevector([0.61634285+0.09755859j, 0.76642704+0.15229381j],\n",
       "             dims=(2,)),\n",
       " Statevector([0.38459181+0.07364006j, 0.86494209+0.31391313j],\n",
       "             dims=(2,)),\n",
       " Statevector([0.14523609-0.0392293j , 0.87767628+0.45502954j],\n",
       "             dims=(2,)),\n",
       " Statevector([0.04238988-0.11411353j, 0.79122642+0.59928453j],\n",
       "             dims=(2,)),\n",
       " Statevector([0.01887405-0.12026043j, 0.65639512+0.74453116j],\n",
       "             dims=(2,))]"
      ]
     },
     "execution_count": 28,
     "metadata": {},
     "output_type": "execute_result"
    }
   ],
   "source": [
    "backend = Aer.get_backend(\"statevector_simulator\")\n",
    "\n",
    "circ_cd = QuantumCircuit(1)\n",
    "\n",
    "circ_cd.h(0)\n",
    "\n",
    "for i in [delta_t*i for i in range(1,num_it+1)]:\n",
    "    circ_cd.rx(2*(1-lam_t(i))*hx*delta_t,0)\n",
    "    circ_cd.rz(2*lam_t(i)*hz*delta_t,0)\n",
    "    circ_cd.ry(2*termino_CD(i)*delta_t,0)\n",
    "    circ_cd.save_statevector(label=f\"Phi_{int(i/delta_t)}\")\n",
    "\n",
    "display(circ_cd.draw(\"mpl\"))\n",
    "\n",
    "\n",
    "job = backend.run(circ_cd).result()\n",
    "\n",
    "stv_cd = [job.data(0)[f\"Phi_{i}\"] for i in range(1,num_it+1)]\n",
    "stv_cd"
   ]
  },
  {
   "cell_type": "code",
   "execution_count": 29,
   "id": "c6fdcc38",
   "metadata": {},
   "outputs": [
    {
     "name": "stdout",
     "output_type": "stream",
     "text": [
      "0.6106038143687244\n",
      "0.8466662773283868\n",
      "0.9773675399422176\n",
      "0.9851812002867913\n",
      "0.9851812002867916\n"
     ]
    }
   ],
   "source": [
    "res_cd = [0.5]\n",
    "\n",
    "for i in stv_cd:\n",
    "    print(get_probabilities(i)[1])\n",
    "    res_cd.append(get_probabilities(i)[1])"
   ]
  },
  {
   "cell_type": "code",
   "execution_count": 30,
   "id": "a746f7ea",
   "metadata": {},
   "outputs": [
    {
     "data": {
      "image/png": "[encoded data removed]",
      "text/plain": [
       "<Figure size 640x480 with 1 Axes>"
      ]
     },
     "metadata": {},
     "output_type": "display_data"
    }
   ],
   "source": [
    "plt.plot([i*delta_t for i in range(num_it+1)],res_cd)\n",
    "plt.plot([i*delta_t for i in range(num_it+1)],res)\n",
    "\n",
    "plt.title(\"Probabilidad de obtener |1> en cada iteración\")\n",
    "plt.legend([\"Con CD\",\"Sin CD\"])\n",
    "\n",
    "plt.show()"
   ]
  },
  {
   "cell_type": "code",
   "execution_count": null,
   "id": "db5522a7",
   "metadata": {},
   "outputs": [],
   "source": []
  },
  {
   "cell_type": "code",
   "execution_count": null,
   "id": "ba6fa66c",
   "metadata": {},
   "outputs": [],
   "source": []
  },
  {
   "cell_type": "code",
   "execution_count": null,
   "id": "5d0e20ef",
   "metadata": {},
   "outputs": [],
   "source": []
  },
  {
   "cell_type": "code",
   "execution_count": null,
   "id": "c5ed6663",
   "metadata": {},
   "outputs": [],
   "source": [
    "from qiskit import IBMQ, assemble, transpile\n",
    "from qiskit_ibm_provider import IBMProvider, least_busy\n",
    "\n",
    "api_key = \"807454d47ee36239856f1751489e9a6c0df8e433a4c335f8cd9d4d7fc697fce7f1d6fbeec86553b2cd8d3d61ae73114b9c704a520699b9ba5b0eb3afd2c1dab1\"\n",
    "provider = IBMProvider(api_key)"
   ]
  },
  {
   "cell_type": "code",
   "execution_count": null,
   "id": "c43de166",
   "metadata": {},
   "outputs": [],
   "source": [
    "backend = least_busy(provider.backends(simulator=False))\n",
    "backend"
   ]
  },
  {
   "cell_type": "code",
   "execution_count": null,
   "id": "51000206",
   "metadata": {},
   "outputs": [],
   "source": [
    "transpiled_circ = transpile(circ,backend)\n",
    "transpiled_circ.draw(\"mpl\")"
   ]
  },
  {
   "cell_type": "code",
   "execution_count": null,
   "id": "cefce5b3",
   "metadata": {},
   "outputs": [],
   "source": [
    "result = backend.run(circ.decompose(),shots=1000).result()"
   ]
  },
  {
   "cell_type": "code",
   "execution_count": null,
   "id": "4f949fad",
   "metadata": {},
   "outputs": [],
   "source": []
  },
  {
   "cell_type": "code",
   "execution_count": null,
   "id": "8d3f498b",
   "metadata": {},
   "outputs": [],
   "source": []
  },
  {
   "cell_type": "code",
   "execution_count": null,
   "id": "ef777e72",
   "metadata": {},
   "outputs": [],
   "source": []
  },
  {
   "cell_type": "code",
   "execution_count": null,
   "id": "198cc3d2",
   "metadata": {},
   "outputs": [],
   "source": []
  },
  {
   "cell_type": "code",
   "execution_count": null,
   "id": "10240709",
   "metadata": {},
   "outputs": [],
   "source": []
  },
  {
   "cell_type": "code",
   "execution_count": null,
   "id": "c9565236",
   "metadata": {},
   "outputs": [],
   "source": [
    "mi_circ = QuantumCircuit(3,3)\n",
    "\n",
    "mi_circ.h([0,1,2])\n",
    "mi_circ.rx(0.1234,0)\n",
    "mi_circ.rz(0.2233,1)\n",
    "mi_circ.ry(1.24,2)\n",
    "\n",
    "mi_circ.save_statevector()\n",
    "\n",
    "mi_circ.draw(\"mpl\")"
   ]
  },
  {
   "cell_type": "code",
   "execution_count": null,
   "id": "06e4107e",
   "metadata": {},
   "outputs": [],
   "source": [
    "from qiskit_aer import AerSimulator\n",
    "from qiskit.providers.fake_provider import FakeVigo\n",
    "\n",
    "device_backend = FakeVigo()\n",
    "\n",
    "backend = AerSimulator.from_backend(device_backend)\n",
    "\n",
    "backend = AerSimulator(method='density_matrix')"
   ]
  },
  {
   "cell_type": "code",
   "execution_count": null,
   "id": "d923f958",
   "metadata": {},
   "outputs": [],
   "source": [
    "transpile(mi_circ,backend).draw(\"mpl\")"
   ]
  },
  {
   "cell_type": "code",
   "execution_count": null,
   "id": "f1812a18",
   "metadata": {},
   "outputs": [],
   "source": []
  }
 ],
 "metadata": {
  "kernelspec": {
   "display_name": "Python 3 (ipykernel)",
   "language": "python",
   "name": "python3"
  },
  "language_info": {
   "codemirror_mode": {
    "name": "ipython",
    "version": 3
   },
   "file_extension": ".py",
   "mimetype": "text/x-python",
   "name": "python",
   "nbconvert_exporter": "python",
   "pygments_lexer": "ipython3",
   "version": "3.11.5"
  }
 },
 "nbformat": 4,
 "nbformat_minor": 5
}
