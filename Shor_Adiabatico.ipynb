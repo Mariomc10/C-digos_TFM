{
  "cells": [
    {
      "cell_type": "markdown",
      "metadata": {
        "id": "SevNNmx1OIzZ"
      },
      "source": [
        "# **Prueba Shor Adiabatico**"
      ]
    },
    {
      "cell_type": "code",
      "execution_count": 1,
      "metadata": {},
      "outputs": [],
      "source": [
        "import dimod\n",
        "import numpy as np\n",
        "from dwave.system import LeapHybridCQMSampler\n",
        "import numpy as np\n",
        "import matplotlib\n",
        "matplotlib.use(\"agg\")\n",
        "import matplotlib.pyplot as plt\n",
        "from time import time"
      ]
    },
    {
      "cell_type": "markdown",
      "metadata": {},
      "source": [
        "En este cuadernillo se implementará el algoritmo de Shor según los argumentos expuestos en la sección 2.1 del informe. En primer lugar, trataremos de formular el CQM correspondiente para ejecutarlo en _D-Wave_. Posteriormente se realizará la digitalización en _Qiskit_."
      ]
    },
    {
      "cell_type": "markdown",
      "metadata": {},
      "source": [
        "## CQM en _D-Wave_"
      ]
    },
    {
      "cell_type": "markdown",
      "metadata": {},
      "source": [
        "Comenzamos definiendo $N$ y calculando el número de _qubits_ necesario para el modelo. Se toma $N = 85079$."
      ]
    },
    {
      "cell_type": "code",
      "execution_count": 2,
      "metadata": {},
      "outputs": [
        {
          "name": "stdout",
          "output_type": "stream",
          "text": [
            "Son necesarios 22 qubits.\n",
            "n_x = 8.\n",
            "n_y = 14.\n"
          ]
        }
      ],
      "source": [
        "N = 571*149   # N = xy, con x <= y\n",
        "\n",
        "# Cálculo de qubits\n",
        "if np.floor(np.sqrt(N))%2:                                  # Parte entera impar\n",
        "    nx = int(np.ceil(np.log2(np.floor(np.sqrt(N)))) - 1)\n",
        "else:\n",
        "    nx = int(np.ceil(np.log2(np.floor(np.sqrt(N)-1))) - 1)\n",
        "\n",
        "ny = int(np.ceil(np.log2(np.floor(N/3))) - 1)\n",
        "\n",
        "# qubits totales\n",
        "total_qubits = nx+ny\n",
        "print(f\"Son necesarios {total_qubits} qubits.\\nn_x = {nx}.\\nn_y = {ny}.\")"
      ]
    },
    {
      "cell_type": "markdown",
      "metadata": {},
      "source": [
        "Creamos las variables del problema de optimización: $x$ e $y$."
      ]
    },
    {
      "cell_type": "code",
      "execution_count": 3,
      "metadata": {},
      "outputs": [
        {
          "name": "stdout",
          "output_type": "stream",
          "text": [
            "[QuadraticModel({'x': 1.0}, {}, 0.0, {'x': 'INTEGER'}, dtype='float64'), QuadraticModel({'y': 1.0}, {}, 0.0, {'y': 'INTEGER'}, dtype='float64')]\n"
          ]
        }
      ],
      "source": [
        "# Variables del problema\n",
        "variables = [dimod.Integer(\"x\"),dimod.Integer(\"y\")]\n",
        "print(variables)"
      ]
    },
    {
      "cell_type": "markdown",
      "metadata": {},
      "source": [
        "Ya hemos tenido en cuenta la naturaleza entera de las variables. Establecemos a continuación los rangos de cada una de ellas."
      ]
    },
    {
      "cell_type": "code",
      "execution_count": 4,
      "metadata": {},
      "outputs": [],
      "source": [
        "# Límites para x\n",
        "variables[0].set_upper_bound(\"x\",(np.sqrt(N)-1)/2)  # Superior\n",
        "variables[0].set_lower_bound(\"x\",1)                 # Inferior\n",
        "\n",
        "# Límites para y\n",
        "variables[1].set_upper_bound(\"y\",(N/3-1)/2)         # Superior\n",
        "variables[1].set_lower_bound(\"y\",(np.sqrt(N)-1)/2)  # Inferior"
      ]
    },
    {
      "cell_type": "markdown",
      "metadata": {},
      "source": [
        "Habiendo hecho esto, podemos empezar a crear el CQM."
      ]
    },
    {
      "cell_type": "code",
      "execution_count": 5,
      "metadata": {},
      "outputs": [
        {
          "name": "stdout",
          "output_type": "stream",
          "text": [
            "Constrained quadratic model: 2 variables, 1 constraints, 6 biases\n",
            "\n",
            "Objective\n",
            "  85078 - 2*Integer('x') - 2*Integer('y') - 4*Integer('x')*Integer('y')\n",
            "\n",
            "Constraints\n",
            "  cbed21b: 85078 - 2*Integer('x') - 2*Integer('y') - 4*Integer('x')*Integer('y') >= 0.0\n",
            "\n",
            "Bounds\n",
            "  1.0 <= Integer('x') <= 145.3415235795348\n",
            "  145.3415235795348 <= Integer('y') <= 14179.333333333334\n",
            "\n"
          ]
        }
      ],
      "source": [
        "# Creamos el modelo CQM\n",
        "cqm = dimod.ConstrainedQuadraticModel()\n",
        "\n",
        "# Función objetivo\n",
        "cqm.set_objective(N - (2*variables[0]+1)*(2*variables[1]+1))\n",
        "\n",
        "# Restricción para la transformación en QUBO\n",
        "cqm.add_constraint(N - (2*variables[0]+1)*(2*variables[1]+1)>=0)\n",
        "\n",
        "# Mostramos el modelo\n",
        "print(cqm)"
      ]
    },
    {
      "cell_type": "markdown",
      "metadata": {},
      "source": [
        "Una vez definido, solo nos queda ejecutarlo en _D-Wave_ con la ayuda de un _sampler_ híbrido."
      ]
    },
    {
      "cell_type": "code",
      "execution_count": 6,
      "metadata": {},
      "outputs": [
        {
          "name": "stdout",
          "output_type": "stream",
          "text": [
            "Obtenido mínimo en 8.170473098754883 segundos.\n",
            "x_bar = 74.0. x = 149.\n",
            "y_bar = 285.0. y = 571.\n",
            "\n",
            "Factorización correcta. 85079 = 149*571.\n"
          ]
        }
      ],
      "source": [
        "# Definimos el sampler híbrido\n",
        "sampler = LeapHybridCQMSampler()\n",
        "\n",
        "# Resolvemos el CQM\n",
        "sampleset = sampler.sample_cqm(cqm)\n",
        "\n",
        "# Tomamos las soluciones factibles\n",
        "t0 = time()\n",
        "feasible_sampleset = sampleset.filter(lambda row: row.is_feasible)\n",
        "t1 = time()\n",
        "print(f\"Obtenido mínimo en {t1-t0} segundos.\")\n",
        "\n",
        "# Mostramos la mejor solución. Recordemos que en caso de haber factorizado N = p*q serán p = 2*x_bar + 1 = x y q = 2*y_bar + 1 = y.\n",
        "best = feasible_sampleset.first.sample\n",
        "x_bar, y_bar = best[\"x\"], best[\"y\"]\n",
        "x = int(2*x_bar+1)\n",
        "y = int(2*y_bar+1)\n",
        "print(f\"x_bar = {x_bar}. x = {x}.\")\n",
        "print(f\"y_bar = {y_bar}. y = {y}.\")\n",
        "if N == x*y:\n",
        "    print(f\"\\nFactorización correcta. {N} = {x}*{y}.\")\n",
        "else:\n",
        "    print(\"\\nFactorización incorrecta.\")"
      ]
    },
    {
      "cell_type": "markdown",
      "metadata": {},
      "source": [
        "Vista la implementación adiabática, pasemos ahora a DAdQC."
      ]
    },
    {
      "cell_type": "markdown",
      "metadata": {},
      "source": [
        "## Digitalización en _Qiskit_"
      ]
    },
    {
      "cell_type": "markdown",
      "metadata": {},
      "source": []
    },
    {
      "cell_type": "code",
      "execution_count": null,
      "metadata": {},
      "outputs": [],
      "source": []
    }
  ],
  "metadata": {
    "colab": {
      "provenance": []
    },
    "kernelspec": {
      "display_name": "Python 3 (ipykernel)",
      "language": "python",
      "name": "python3"
    },
    "language_info": {
      "codemirror_mode": {
        "name": "ipython",
        "version": 3
      },
      "file_extension": ".py",
      "mimetype": "text/x-python",
      "name": "python",
      "nbconvert_exporter": "python",
      "pygments_lexer": "ipython3",
      "version": "3.11.9"
    }
  },
  "nbformat": 4,
  "nbformat_minor": 0
}
